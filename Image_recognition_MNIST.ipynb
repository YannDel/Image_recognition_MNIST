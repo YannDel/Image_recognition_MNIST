{
 "cells": [
  {
   "attachments": {
    "image-2.png": {
     "image/png": "[encoded data removed]"
    }
   },
   "cell_type": "markdown",
   "id": "behind-manual",
   "metadata": {},
   "source": [
    "# Computer Vision - Image recognition via Deep Learning\n",
    "\n",
    "## Project's objective\n",
    "\n",
    "Identify handwritten digits with the highest accuracy possible.\n",
    "\n",
    "## Data\n",
    "\n",
    "The data used for this project comes from the MNIST dataset which is a very good basis for people who want to try learning techniques and pattern recognition method on real-world data.\n",
    "\n",
    "The data contains contains 70,000 instances of labeled images (28x28 pixels) representing handwritten digits going from 0 to 9.\n",
    "\n",
    "![image-2.png](attachment:image-2.png)\n",
    "\n",
    "These image-label pairs are divided into 60,000 training examples and 10,000 testing examples.\n",
    "\n",
    "## Methodology\n",
    "\n",
    "For this project, the classification problem is tackled via Supervised Deep Learning. \n",
    "First of all, a data pre-processing step will be performed to explore the MNIST dataset and prepare data for analysis via encoding, formatting, and normalizing.\n",
    "Then, two neural networks will be built: \n",
    "\n",
    "* Multi-Layer Perceptron (MLP)\n",
    "* Convolutional Neural Network (CNN)\n",
    "\n",
    "Models' hyperparameters configuration will be tuned to maximize performances while preventing classic issues such as overfitting. \n",
    "Results will be finally compared to identify which model yields the highest accuracy."
   ]
  },
  {
   "cell_type": "markdown",
   "id": "known-rochester",
   "metadata": {},
   "source": [
    "# Modules Import"
   ]
  },
  {
   "cell_type": "code",
   "execution_count": 1,
   "id": "enclosed-letters",
   "metadata": {},
   "outputs": [],
   "source": [
    "import tensorflow\n",
    "from tensorflow import keras\n",
    "from tensorflow.keras.datasets import mnist\n",
    "from tensorflow.keras import backend as K\n",
    "\n",
    "from tensorflow.keras.models import Sequential\n",
    "from tensorflow.keras.layers import Dense, Dropout, Conv2D, MaxPooling2D, Flatten\n",
    "from tensorflow.keras.optimizers import RMSprop\n",
    "\n",
    "import numpy as np\n",
    "import pandas as pd\n",
    "import matplotlib.pyplot as plt"
   ]
  },
  {
   "cell_type": "markdown",
   "id": "equipped-athens",
   "metadata": {},
   "source": [
    "# Data pre-processing"
   ]
  },
  {
   "cell_type": "code",
   "execution_count": 2,
   "id": "alone-thompson",
   "metadata": {},
   "outputs": [],
   "source": [
    "from tensorflow import keras\n",
    "from tensorflow.keras.datasets import mnist"
   ]
  },
  {
   "cell_type": "code",
   "execution_count": 3,
   "id": "beginning-mapping",
   "metadata": {},
   "outputs": [
    {
     "name": "stdout",
     "output_type": "stream",
     "text": [
      "Loading data...\n"
     ]
    }
   ],
   "source": [
    "print('Loading data...')\n",
    "(mnist_train_images, mnist_train_labels), (mnist_test_images, mnist_test_labels) = mnist.load_data()"
   ]
  },
  {
   "cell_type": "code",
   "execution_count": 4,
   "id": "removed-hepatitis",
   "metadata": {},
   "outputs": [
    {
     "data": {
      "text/html": [
       "<div>\n",
       "<style scoped>\n",
       "    .dataframe tbody tr th:only-of-type {\n",
       "        vertical-align: middle;\n",
       "    }\n",
       "\n",
       "    .dataframe tbody tr th {\n",
       "        vertical-align: top;\n",
       "    }\n",
       "\n",
       "    .dataframe thead th {\n",
       "        text-align: right;\n",
       "    }\n",
       "</style>\n",
       "<table border=\"1\" class=\"dataframe\">\n",
       "  <thead>\n",
       "    <tr style=\"text-align: right;\">\n",
       "      <th></th>\n",
       "      <th>Train data</th>\n",
       "      <th>Test data</th>\n",
       "    </tr>\n",
       "  </thead>\n",
       "  <tbody>\n",
       "    <tr>\n",
       "      <th>0</th>\n",
       "      <td>5923</td>\n",
       "      <td>980</td>\n",
       "    </tr>\n",
       "    <tr>\n",
       "      <th>1</th>\n",
       "      <td>6742</td>\n",
       "      <td>1135</td>\n",
       "    </tr>\n",
       "    <tr>\n",
       "      <th>2</th>\n",
       "      <td>5958</td>\n",
       "      <td>1032</td>\n",
       "    </tr>\n",
       "    <tr>\n",
       "      <th>3</th>\n",
       "      <td>6131</td>\n",
       "      <td>1010</td>\n",
       "    </tr>\n",
       "    <tr>\n",
       "      <th>4</th>\n",
       "      <td>5842</td>\n",
       "      <td>982</td>\n",
       "    </tr>\n",
       "    <tr>\n",
       "      <th>5</th>\n",
       "      <td>5421</td>\n",
       "      <td>892</td>\n",
       "    </tr>\n",
       "    <tr>\n",
       "      <th>6</th>\n",
       "      <td>5918</td>\n",
       "      <td>958</td>\n",
       "    </tr>\n",
       "    <tr>\n",
       "      <th>7</th>\n",
       "      <td>6265</td>\n",
       "      <td>1028</td>\n",
       "    </tr>\n",
       "    <tr>\n",
       "      <th>8</th>\n",
       "      <td>5851</td>\n",
       "      <td>974</td>\n",
       "    </tr>\n",
       "    <tr>\n",
       "      <th>9</th>\n",
       "      <td>5949</td>\n",
       "      <td>1009</td>\n",
       "    </tr>\n",
       "  </tbody>\n",
       "</table>\n",
       "</div>"
      ],
      "text/plain": [
       "   Train data  Test data\n",
       "0        5923        980\n",
       "1        6742       1135\n",
       "2        5958       1032\n",
       "3        6131       1010\n",
       "4        5842        982\n",
       "5        5421        892\n",
       "6        5918        958\n",
       "7        6265       1028\n",
       "8        5851        974\n",
       "9        5949       1009"
      ]
     },
     "execution_count": 4,
     "metadata": {},
     "output_type": "execute_result"
    }
   ],
   "source": [
    "s1 = pd.Series(mnist_train_labels).value_counts()\n",
    "s2 = pd.Series(mnist_test_labels).value_counts()\n",
    "overview = pd.concat([s1.rename('Train data'), s2.rename('Test data')], axis=1)\n",
    "overview"
   ]
  },
  {
   "cell_type": "code",
   "execution_count": 5,
   "id": "lovely-damage",
   "metadata": {},
   "outputs": [
    {
     "data": {
      "text/plain": [
       "array([[  0,   0,   0,   0,   0,   0,   0,   0,   0,   0,   0,   0,   0,\n",
       "          0,   0,   0,   0,   0,   0,   0,   0,   0,   0,   0,   0,   0,\n",
       "          0,   0],\n",
       "       [  0,   0,   0,   0,   0,   0,   0,   0,   0,   0,   0,   0,   0,\n",
       "          0,   0,   0,   0,   0,   0,   0,   0,   0,   0,   0,   0,   0,\n",
       "          0,   0],\n",
       "       [  0,   0,   0,   0,   0,   0,   0,   0,   0,   0,   0,   0,   0,\n",
       "          0,   0,   0,   0,   0,   0,   0,   0,   0,   0,   0,   0,   0,\n",
       "          0,   0],\n",
       "       [  0,   0,   0,   0,   0,   0,   0,   0,   0,   0,   0,   0,   0,\n",
       "          0,   0,   0,   0,   0,   0,   0,   0,   0,   0,   0,   0,   0,\n",
       "          0,   0],\n",
       "       [  0,   0,   0,   0,   0,   0,   0,   0,   0,   0,   0,   0,   0,\n",
       "          0,   0,   0,   0,   0,   0,   0,   0,   0,   0,   0,   0,   0,\n",
       "          0,   0],\n",
       "       [  0,   0,   0,   0,   0,   0,   0,   0,  49, 125, 168, 254, 254,\n",
       "        254, 254, 160,  38,   0,   0,   0,   0,   0,   0,   0,   0,   0,\n",
       "          0,   0],\n",
       "       [  0,   0,   0,   0,   0,   0,   0, 163, 250, 253, 253, 253, 253,\n",
       "        253, 253, 253, 205,   0,   0,   0,   0,   0,   0,   0,   0,   0,\n",
       "          0,   0],\n",
       "       [  0,   0,   0,   0,   0,   0, 106, 252, 253, 253, 253, 253, 253,\n",
       "        253, 253, 253, 251,  80,   0,   0,   0,   0,   0,   0,   0,   0,\n",
       "          0,   0],\n",
       "       [  0,   0,   0,   0,   0,   0,  66, 246, 253, 253, 218, 149, 149,\n",
       "        176, 253, 253, 253, 205,   0,   0,   0,   0,   0,   0,   0,   0,\n",
       "          0,   0],\n",
       "       [  0,   0,   0,   0,   0,   0,   0, 144, 155,  42,  17,   0,   0,\n",
       "        116, 253, 253, 235,  65,   0,   0,   0,   0,   0,   0,   0,   0,\n",
       "          0,   0],\n",
       "       [  0,   0,   0,   0,   0,   0,   0,   0,   0,   0,   0,   0, 177,\n",
       "        246, 253, 253, 207,   0,   0,   0,   0,   0,   0,   0,   0,   0,\n",
       "          0,   0],\n",
       "       [  0,   0,   0,   0,   0,   0,   0,   0,   0,   0,  73, 215, 246,\n",
       "        253, 253, 253,  97,   0,   0,   0,   0,   0,   0,   0,   0,   0,\n",
       "          0,   0],\n",
       "       [  0,   0,   0,   0,   0,   0,   0,   0,   0,   0, 192, 253, 253,\n",
       "        253, 253, 253, 199,  26,   0,   0,   0,   0,   0,   0,   0,   0,\n",
       "          0,   0],\n",
       "       [  0,   0,   0,   0,   0,   0,   0,   0,   0,   0, 215, 253, 253,\n",
       "        253, 253, 253, 253, 219, 110,   0,   0,   0,   0,   0,   0,   0,\n",
       "          0,   0],\n",
       "       [  0,   0,   0,   0,   0,   0,   0,   0,   0,   0, 115, 253, 253,\n",
       "        253, 253, 253, 253, 253, 246, 175,   0,   0,   0,   0,   0,   0,\n",
       "          0,   0],\n",
       "       [  0,   0,   0,   0,   0,   0,   0,   0,   0,   0,  22,  65,  65,\n",
       "         65,  95, 194, 235, 253, 253, 247, 108,   0,   0,   0,   0,   0,\n",
       "          0,   0],\n",
       "       [  0,   0,   0,   0,   0,   0,   0,   0,   0,   0,   0,   0,   0,\n",
       "          0,   0,   0,  50, 166, 253, 253, 234,   0,   0,   0,   0,   0,\n",
       "          0,   0],\n",
       "       [  0,   0,   0,   0,   0,   0,   0,   0,   0,   0,   0,   0,   0,\n",
       "          0,   0,   0,   0,  12, 190, 253, 247,  77,   0,   0,   0,   0,\n",
       "          0,   0],\n",
       "       [  0,   0,   0,   0,   0,   0,   0,   0,   0,   0,   0,   0,   0,\n",
       "          0,   0,   0,   0,   0, 163, 253, 253, 110,   0,   0,   0,   0,\n",
       "          0,   0],\n",
       "       [  0,   0,   0,   0,   0,   0,   0,   0,   0,   0,   0,   0,   0,\n",
       "          0,   0,   0,   0,   6, 175, 253, 253, 110,   0,   0,   0,   0,\n",
       "          0,   0],\n",
       "       [  0,   0,   0,   0,   0,   0,   0,   0,  24,  27,  18,   0,   0,\n",
       "          0,   0,   0,   5, 128, 253, 253, 251,  99,   0,   0,   0,   0,\n",
       "          0,   0],\n",
       "       [  0,   0,   0,   0,   0,   0,   0,   0, 228, 253, 219, 150, 150,\n",
       "         50,  20,  47, 169, 253, 253, 253, 223,   0,   0,   0,   0,   0,\n",
       "          0,   0],\n",
       "       [  0,   0,   0,   0,   0,   0,   0,   0, 222, 253, 253, 253, 253,\n",
       "        253, 253, 253, 253, 253, 253, 232,  45,   0,   0,   0,   0,   0,\n",
       "          0,   0],\n",
       "       [  0,   0,   0,   0,   0,   0,   0,   0,  45, 117, 227, 249, 253,\n",
       "        253, 253, 253, 253, 252, 162,  45,   0,   0,   0,   0,   0,   0,\n",
       "          0,   0],\n",
       "       [  0,   0,   0,   0,   0,   0,   0,   0,   0,   0,   0,  39, 159,\n",
       "        253, 253, 253, 230, 104,   0,   0,   0,   0,   0,   0,   0,   0,\n",
       "          0,   0],\n",
       "       [  0,   0,   0,   0,   0,   0,   0,   0,   0,   0,   0,   0,   0,\n",
       "          0,   0,   0,   0,   0,   0,   0,   0,   0,   0,   0,   0,   0,\n",
       "          0,   0],\n",
       "       [  0,   0,   0,   0,   0,   0,   0,   0,   0,   0,   0,   0,   0,\n",
       "          0,   0,   0,   0,   0,   0,   0,   0,   0,   0,   0,   0,   0,\n",
       "          0,   0],\n",
       "       [  0,   0,   0,   0,   0,   0,   0,   0,   0,   0,   0,   0,   0,\n",
       "          0,   0,   0,   0,   0,   0,   0,   0,   0,   0,   0,   0,   0,\n",
       "          0,   0]], dtype=uint8)"
      ]
     },
     "execution_count": 5,
     "metadata": {},
     "output_type": "execute_result"
    }
   ],
   "source": [
    "mnist_train_images[298]"
   ]
  },
  {
   "cell_type": "markdown",
   "id": "adverse-campbell",
   "metadata": {},
   "source": [
    "Data pre-processing steps:\n",
    "\n",
    "1. One-hot encoding - labels converted into one-hot format (optimal format for classification models to handle labels over training). \n",
    "\n",
    "\n",
    "2. Reshaping images - depending on the model used: \n",
    "\n",
    "==> MLP: flat arrays of 784 values.\n",
    "\n",
    "==> CNN: keep image size of 28x28 pixels and add channel color value \"1\" consistently (depending on the Keras data format set up). N.B: as images are just in grayscale here, there is one single color channel (\"1\"). If we were dealing with color images, we'd have three color channels (red, green and blue). \n",
    "\n",
    "3. Normalization - convert images values into floating points and normalize. "
   ]
  },
  {
   "cell_type": "code",
   "execution_count": 6,
   "id": "communist-michael",
   "metadata": {},
   "outputs": [],
   "source": [
    "# MLP data pre-processing\n",
    "\n",
    "def process_MLP(train_images, train_labels, test_images, test_labels):\n",
    "    \n",
    "    # Labels one-hot encoding\n",
    "    train_labels = tensorflow.keras.utils.to_categorical(train_labels, 10)\n",
    "    test_labels = tensorflow.keras.utils.to_categorical(test_labels, 10)\n",
    "    \n",
    "    # Flatten 28x28 images into 784 values arrays\n",
    "    train_images = train_images.reshape(60000, 784)\n",
    "    test_images = test_images.reshape(10000, 784)\n",
    "    \n",
    "    # Normalization\n",
    "    train_images = train_images.astype('float32')\n",
    "    test_images = test_images.astype('float32')\n",
    "    train_images /= 255\n",
    "    test_images /= 255\n",
    "    \n",
    "    return train_images, train_labels, test_images, test_labels"
   ]
  },
  {
   "cell_type": "code",
   "execution_count": 7,
   "id": "great-extension",
   "metadata": {},
   "outputs": [],
   "source": [
    "# CNN data pre-processing\n",
    "\n",
    "def process_CNN(train_images, train_labels, test_images, test_labels):\n",
    "    \n",
    "    # Labels one-hot encoding\n",
    "    train_labels = tensorflow.keras.utils.to_categorical(mnist_train_labels, 10)\n",
    "    test_labels = tensorflow.keras.utils.to_categorical(mnist_test_labels, 10)\n",
    "    \n",
    "    # Add chanel color value \"1\", depending on the Keras data format set up \n",
    "    if K.image_data_format() == 'channels_first':\n",
    "        train_images = train_images.reshape(mnist_train_images.shape[0], 1, 28, 28)\n",
    "        test_images = test_images.reshape(mnist_test_images.shape[0], 1, 28, 28)\n",
    "        input_shape = (1, 28, 28)\n",
    "    else:\n",
    "        train_images = mnist_train_images.reshape(train_images.shape[0], 28, 28, 1)\n",
    "        test_images = mnist_test_images.reshape(test_images.shape[0], 28, 28, 1)\n",
    "        input_shape = (28, 28, 1)\n",
    "        \n",
    "    # Normalization\n",
    "    train_images = train_images.astype('float32')\n",
    "    test_images = test_images.astype('float32')\n",
    "    train_images /= 255\n",
    "    test_images /= 255\n",
    "    \n",
    "    return train_images, train_labels, test_images, test_labels, input_shape"
   ]
  },
  {
   "cell_type": "markdown",
   "id": "liquid-system",
   "metadata": {},
   "source": [
    "As a sanity check, let's print out one of the training example with its label. "
   ]
  },
  {
   "cell_type": "code",
   "execution_count": 8,
   "id": "persistent-absence",
   "metadata": {
    "scrolled": true
   },
   "outputs": [
    {
     "name": "stdout",
     "output_type": "stream",
     "text": [
      "[0. 0. 0. 0. 0. 0. 0. 0. 0. 1.]\n"
     ]
    },
    {
     "data": {
      "image/png": "[encoded data removed]",
      "text/plain": [
       "<Figure size 432x288 with 1 Axes>"
      ]
     },
     "metadata": {
      "needs_background": "light"
     },
     "output_type": "display_data"
    }
   ],
   "source": [
    "train_images, train_labels, test_images, test_labels = process_MLP(mnist_train_images, mnist_train_labels, \n",
    "                                                                   mnist_test_images, mnist_test_labels)\n",
    "\n",
    "def display_sample(train_images, train_labels, num):\n",
    "    # Print the one-hot array of this sample's label \n",
    "    print(train_labels[num])  \n",
    "    # Print the image and label converted back to a number\n",
    "    image = train_images[num].reshape([28,28])\n",
    "    label = train_labels[num].argmax(axis=0)\n",
    "    plt.title('Sample: %d  Label: %d' % (num, label))\n",
    "    plt.imshow(image, cmap=plt.get_cmap('gray_r'))\n",
    "    plt.show()\n",
    "    \n",
    "display_sample(train_images, train_labels, 1235)"
   ]
  },
  {
   "cell_type": "markdown",
   "id": "polar-refund",
   "metadata": {},
   "source": [
    "# Multi-Layer Perceptron (MLP)"
   ]
  },
  {
   "cell_type": "markdown",
   "id": "mineral-theology",
   "metadata": {},
   "source": [
    "Network topology:\n",
    "\n",
    "* Input layer - 784 features feeds into a ReLU layer of 512 units\n",
    "* Dropout - apply dropout filter to prevent overfitting.\n",
    "* Hidden layer (optional) - ReLU layer of 128 units\n",
    "* Output layer - 10 units with softmax applied to choose our category of 0-9.\n",
    "\n",
    "We will use the RMSProp optimizer here. Other choices include Adagrad, SGD, Adam, Adamax, and Nadam. See https://keras.io/optimizers/"
   ]
  },
  {
   "cell_type": "code",
   "execution_count": 9,
   "id": "positive-boston",
   "metadata": {},
   "outputs": [
    {
     "name": "stdout",
     "output_type": "stream",
     "text": [
      "Model: \"sequential\"\n",
      "_________________________________________________________________\n",
      "Layer (type)                 Output Shape              Param #   \n",
      "=================================================================\n",
      "dense (Dense)                (None, 512)               401920    \n",
      "_________________________________________________________________\n",
      "dropout (Dropout)            (None, 512)               0         \n",
      "_________________________________________________________________\n",
      "dense_1 (Dense)              (None, 512)               262656    \n",
      "_________________________________________________________________\n",
      "dense_2 (Dense)              (None, 10)                5130      \n",
      "=================================================================\n",
      "Total params: 669,706\n",
      "Trainable params: 669,706\n",
      "Non-trainable params: 0\n",
      "_________________________________________________________________\n"
     ]
    }
   ],
   "source": [
    "def MLP():\n",
    "    model = Sequential()\n",
    "    # Input layer\n",
    "    model.add(Dense(512, activation='relu', input_shape=(784,)))\n",
    "    # Dropout\n",
    "    model.add(Dropout(0.5))\n",
    "    # Hidden layer (turns out to be inefficient)\n",
    "    model.add(Dense(512, activation='relu', input_shape=(784,)))\n",
    "    # Output layer\n",
    "    model.add(Dense(10, activation='softmax'))\n",
    "\n",
    "    # Compile model\n",
    "    model.compile(loss='categorical_crossentropy',\n",
    "              optimizer=RMSprop(),\n",
    "              metrics=['accuracy'])\n",
    "    return model\n",
    "\n",
    "model = MLP()\n",
    "model.summary()"
   ]
  },
  {
   "cell_type": "markdown",
   "id": "suspended-charles",
   "metadata": {},
   "source": [
    "Let's train our MLP on 10 epochs with batch size of 100. "
   ]
  },
  {
   "cell_type": "code",
   "execution_count": 10,
   "id": "expensive-margin",
   "metadata": {},
   "outputs": [],
   "source": [
    "# Data pre-processing\n",
    "train_images, train_labels, test_images, test_labels = process_MLP(mnist_train_images, mnist_train_labels, \n",
    "                                                                   mnist_test_images, mnist_test_labels)"
   ]
  },
  {
   "cell_type": "code",
   "execution_count": 11,
   "id": "floppy-alabama",
   "metadata": {
    "scrolled": true
   },
   "outputs": [
    {
     "name": "stdout",
     "output_type": "stream",
     "text": [
      "Epoch 1/10\n",
      "600/600 - 7s - loss: 0.2822 - accuracy: 0.9134 - val_loss: 0.1127 - val_accuracy: 0.9650\n",
      "Epoch 2/10\n",
      "600/600 - 6s - loss: 0.1415 - accuracy: 0.9578 - val_loss: 0.0948 - val_accuracy: 0.9738\n",
      "Epoch 3/10\n",
      "600/600 - 7s - loss: 0.1167 - accuracy: 0.9651 - val_loss: 0.0800 - val_accuracy: 0.9775\n",
      "Epoch 4/10\n",
      "600/600 - 7s - loss: 0.1006 - accuracy: 0.9702 - val_loss: 0.0763 - val_accuracy: 0.9792\n",
      "Epoch 5/10\n",
      "600/600 - 8s - loss: 0.0928 - accuracy: 0.9739 - val_loss: 0.0691 - val_accuracy: 0.9814\n",
      "Epoch 6/10\n",
      "600/600 - 8s - loss: 0.0847 - accuracy: 0.9764 - val_loss: 0.0682 - val_accuracy: 0.9801\n",
      "Epoch 7/10\n",
      "600/600 - 7s - loss: 0.0786 - accuracy: 0.9779 - val_loss: 0.0852 - val_accuracy: 0.9785\n",
      "Epoch 8/10\n",
      "600/600 - 6s - loss: 0.0743 - accuracy: 0.9796 - val_loss: 0.0690 - val_accuracy: 0.9828\n",
      "Epoch 9/10\n",
      "600/600 - 7s - loss: 0.0719 - accuracy: 0.9804 - val_loss: 0.0765 - val_accuracy: 0.9809\n",
      "Epoch 10/10\n",
      "600/600 - 6s - loss: 0.0689 - accuracy: 0.9813 - val_loss: 0.0758 - val_accuracy: 0.9820\n"
     ]
    }
   ],
   "source": [
    "history = model.fit(train_images, train_labels,\n",
    "                    batch_size=100,\n",
    "                    epochs=10,\n",
    "                    verbose=2,\n",
    "                    validation_data=(test_images, test_labels))"
   ]
  },
  {
   "cell_type": "code",
   "execution_count": 12,
   "id": "atlantic-reconstruction",
   "metadata": {},
   "outputs": [
    {
     "name": "stdout",
     "output_type": "stream",
     "text": [
      "Test loss: 0.0757911279797554\n",
      "Test accuracy: 0.9819999933242798\n"
     ]
    },
    {
     "data": {
      "text/html": [
       "<div>\n",
       "<style scoped>\n",
       "    .dataframe tbody tr th:only-of-type {\n",
       "        vertical-align: middle;\n",
       "    }\n",
       "\n",
       "    .dataframe tbody tr th {\n",
       "        vertical-align: top;\n",
       "    }\n",
       "\n",
       "    .dataframe thead th {\n",
       "        text-align: right;\n",
       "    }\n",
       "</style>\n",
       "<table border=\"1\" class=\"dataframe\">\n",
       "  <thead>\n",
       "    <tr style=\"text-align: right;\">\n",
       "      <th></th>\n",
       "      <th>Model</th>\n",
       "      <th>Score</th>\n",
       "    </tr>\n",
       "  </thead>\n",
       "  <tbody>\n",
       "    <tr>\n",
       "      <th>0</th>\n",
       "      <td>Multi-Layer Perceptron</td>\n",
       "      <td>0.982</td>\n",
       "    </tr>\n",
       "  </tbody>\n",
       "</table>\n",
       "</div>"
      ],
      "text/plain": [
       "                    Model  Score\n",
       "0  Multi-Layer Perceptron  0.982"
      ]
     },
     "execution_count": 12,
     "metadata": {},
     "output_type": "execute_result"
    }
   ],
   "source": [
    "score = model.evaluate(test_images, test_labels, verbose=0)\n",
    "print('Test loss:', score[0])\n",
    "print('Test accuracy:', score[1])\n",
    "\n",
    "scores = pd.DataFrame(columns=['Model', 'Score'])\n",
    "scores.loc[0] = ['Multi-Layer Perceptron', score[1]]\n",
    "scores"
   ]
  },
  {
   "cell_type": "markdown",
   "id": "dramatic-talent",
   "metadata": {},
   "source": [
    "# Convolutional Neural Network (CNN)"
   ]
  },
  {
   "cell_type": "markdown",
   "id": "packed-slovenia",
   "metadata": {},
   "source": [
    "Setting up a convolutional neural network involves more layers. Not all of these are strictly necessary (eg. pooling and dropout) but those extra steps help avoid overfitting and run operations faster).\n",
    "\n",
    "Network topology:\n",
    "\n",
    "* Convolution 1 - 2D convolution of the image (set up to take 32 windows/filters of each image, each filter being 3x3 in size).\n",
    "\n",
    "* Convolution 2 - second convolution on top of that with 64 3x3 windows - this topology is just what comes recommended within Keras's own examples. Again you want to re-use previous research whenever possible while tuning CNN's, as it is hard to do.\n",
    "\n",
    "* Pooling - apply a MaxPooling2D layer that takes the maximum of each 2x2 result to distill the results down into something more manageable.\n",
    "\n",
    "* Dropout - apply dropout filter to prevent overfitting.\n",
    "\n",
    "* Flatten layer - flatten the 2D layer we have at this stage into a 1D layer. So at this point we can just pretend we have a traditional multi-layer perceptron...\n",
    "\n",
    "* Hidden layer - feed results into a hidden, flat layer of 128 units.\n",
    "\n",
    "* Dropout - apply dropout again to further prevent overfitting.\n",
    "\n",
    "* Output layer - feed results into a final 10 units layer where softmax is applied. \n",
    "\n",
    "This time, we use the Adam optimizer.  "
   ]
  },
  {
   "cell_type": "code",
   "execution_count": 13,
   "id": "sought-failing",
   "metadata": {},
   "outputs": [],
   "source": [
    "train_images, train_labels, test_images, test_labels, input_shape = process_CNN(mnist_train_images, mnist_train_labels, \n",
    "                                                                                mnist_test_images, mnist_test_labels)"
   ]
  },
  {
   "cell_type": "code",
   "execution_count": 14,
   "id": "indian-costume",
   "metadata": {},
   "outputs": [
    {
     "name": "stdout",
     "output_type": "stream",
     "text": [
      "Model: \"sequential_1\"\n",
      "_________________________________________________________________\n",
      "Layer (type)                 Output Shape              Param #   \n",
      "=================================================================\n",
      "conv2d (Conv2D)              (None, 26, 26, 32)        320       \n",
      "_________________________________________________________________\n",
      "conv2d_1 (Conv2D)            (None, 24, 24, 64)        18496     \n",
      "_________________________________________________________________\n",
      "max_pooling2d (MaxPooling2D) (None, 12, 12, 64)        0         \n",
      "_________________________________________________________________\n",
      "dropout_1 (Dropout)          (None, 12, 12, 64)        0         \n",
      "_________________________________________________________________\n",
      "flatten (Flatten)            (None, 9216)              0         \n",
      "_________________________________________________________________\n",
      "dense_3 (Dense)              (None, 128)               1179776   \n",
      "_________________________________________________________________\n",
      "dropout_2 (Dropout)          (None, 128)               0         \n",
      "_________________________________________________________________\n",
      "dense_4 (Dense)              (None, 10)                1290      \n",
      "=================================================================\n",
      "Total params: 1,199,882\n",
      "Trainable params: 1,199,882\n",
      "Non-trainable params: 0\n",
      "_________________________________________________________________\n"
     ]
    }
   ],
   "source": [
    "def CNN(input_shape, optimizer):\n",
    "    model = Sequential()\n",
    "    # Convolution 1 - 32 3x3 kernels\n",
    "    model.add(Conv2D(32, kernel_size=(3, 3),\n",
    "                     activation='relu',\n",
    "                     input_shape=input_shape))\n",
    "    # Convolution 2 - 64 3x3 kernels\n",
    "    model.add(Conv2D(64, (3, 3), activation='relu'))\n",
    "    # Pooling - Reduce by taking the max of each 2x2 block\n",
    "    model.add(MaxPooling2D(pool_size=(2, 2)))\n",
    "    # Dropout to avoid overfitting\n",
    "    model.add(Dropout(0.25))\n",
    "    # Flatten the results to one dimension \n",
    "    model.add(Flatten())\n",
    "    # Hidden layer \n",
    "    model.add(Dense(128, activation='relu'))\n",
    "    # Dropout\n",
    "    model.add(Dropout(0.5))\n",
    "    # Output layer - Final categorization from 0-9 with softmax\n",
    "    model.add(Dense(10, activation='softmax'))\n",
    "    # Compile model\n",
    "    model.compile(loss='categorical_crossentropy',\n",
    "                  optimizer='adam',\n",
    "                  metrics=['accuracy'])\n",
    "    \n",
    "    return model\n",
    "\n",
    "model = CNN(input_shape)\n",
    "model.summary()"
   ]
  },
  {
   "cell_type": "code",
   "execution_count": 15,
   "id": "manufactured-cholesterol",
   "metadata": {
    "scrolled": true
   },
   "outputs": [
    {
     "name": "stdout",
     "output_type": "stream",
     "text": [
      "Epoch 1/10\n",
      "1875/1875 - 90s - loss: 0.1967 - accuracy: 0.9411 - val_loss: 0.0421 - val_accuracy: 0.9870\n",
      "Epoch 2/10\n",
      "1875/1875 - 90s - loss: 0.0811 - accuracy: 0.9757 - val_loss: 0.0350 - val_accuracy: 0.9881\n",
      "Epoch 3/10\n",
      "1875/1875 - 94s - loss: 0.0639 - accuracy: 0.9805 - val_loss: 0.0315 - val_accuracy: 0.9892\n",
      "Epoch 4/10\n",
      "1875/1875 - 97s - loss: 0.0507 - accuracy: 0.9847 - val_loss: 0.0295 - val_accuracy: 0.9913\n",
      "Epoch 5/10\n",
      "1875/1875 - 91s - loss: 0.0420 - accuracy: 0.9870 - val_loss: 0.0308 - val_accuracy: 0.9899\n",
      "Epoch 6/10\n",
      "1875/1875 - 90s - loss: 0.0400 - accuracy: 0.9878 - val_loss: 0.0353 - val_accuracy: 0.9900\n",
      "Epoch 7/10\n",
      "1875/1875 - 95s - loss: 0.0351 - accuracy: 0.9891 - val_loss: 0.0269 - val_accuracy: 0.9914\n",
      "Epoch 8/10\n",
      "1875/1875 - 94s - loss: 0.0291 - accuracy: 0.9907 - val_loss: 0.0314 - val_accuracy: 0.9914\n",
      "Epoch 9/10\n",
      "1875/1875 - 83s - loss: 0.0272 - accuracy: 0.9916 - val_loss: 0.0311 - val_accuracy: 0.9921\n",
      "Epoch 10/10\n",
      "1875/1875 - 84s - loss: 0.0260 - accuracy: 0.9915 - val_loss: 0.0339 - val_accuracy: 0.9904\n"
     ]
    }
   ],
   "source": [
    "history = model.fit(train_images, train_labels,\n",
    "                    batch_size=32,\n",
    "                    epochs=10,\n",
    "                    verbose=2,\n",
    "                    validation_data=(test_images, test_labels))\n",
    "\n",
    "score = model.evaluate(test_images, test_labels, verbose=0)\n",
    "print('Test loss:', score[0])\n",
    "print('Test accuracy:', score[1])\n",
    "\n",
    "scores.loc[len(scores)] = ['Convolutional Neural Network', score[1]]\n",
    "scores"
   ]
  },
  {
   "cell_type": "code",
   "execution_count": 18,
   "id": "unexpected-mining",
   "metadata": {},
   "outputs": [
    {
     "name": "stdout",
     "output_type": "stream",
     "text": [
      "Test loss: 0.033878814429044724\n",
      "Test accuracy: 0.9904000163078308\n"
     ]
    },
    {
     "data": {
      "text/html": [
       "<div>\n",
       "<style scoped>\n",
       "    .dataframe tbody tr th:only-of-type {\n",
       "        vertical-align: middle;\n",
       "    }\n",
       "\n",
       "    .dataframe tbody tr th {\n",
       "        vertical-align: top;\n",
       "    }\n",
       "\n",
       "    .dataframe thead th {\n",
       "        text-align: right;\n",
       "    }\n",
       "</style>\n",
       "<table border=\"1\" class=\"dataframe\">\n",
       "  <thead>\n",
       "    <tr style=\"text-align: right;\">\n",
       "      <th></th>\n",
       "      <th>Model</th>\n",
       "      <th>Score</th>\n",
       "    </tr>\n",
       "  </thead>\n",
       "  <tbody>\n",
       "    <tr>\n",
       "      <th>0</th>\n",
       "      <td>Multi-Layer Perceptron</td>\n",
       "      <td>0.9820</td>\n",
       "    </tr>\n",
       "    <tr>\n",
       "      <th>1</th>\n",
       "      <td>Convolutional Neural Network</td>\n",
       "      <td>0.9904</td>\n",
       "    </tr>\n",
       "    <tr>\n",
       "      <th>2</th>\n",
       "      <td>Convolutional Neural Network</td>\n",
       "      <td>0.9904</td>\n",
       "    </tr>\n",
       "  </tbody>\n",
       "</table>\n",
       "</div>"
      ],
      "text/plain": [
       "                          Model   Score\n",
       "0        Multi-Layer Perceptron  0.9820\n",
       "1  Convolutional Neural Network  0.9904\n",
       "2  Convolutional Neural Network  0.9904"
      ]
     },
     "execution_count": 18,
     "metadata": {},
     "output_type": "execute_result"
    }
   ],
   "source": [
    "score = model.evaluate(test_images, test_labels, verbose=0)\n",
    "print('Test loss:', score[0])\n",
    "print('Test accuracy:', score[1])\n",
    "\n",
    "scores.loc[1] = ['Convolutional Neural Network', score[1]]\n",
    "scores"
   ]
  }
 ],
 "metadata": {
  "kernelspec": {
   "display_name": "Python 3",
   "language": "python",
   "name": "python3"
  },
  "language_info": {
   "codemirror_mode": {
    "name": "ipython",
    "version": 3
   },
   "file_extension": ".py",
   "mimetype": "text/x-python",
   "name": "python",
   "nbconvert_exporter": "python",
   "pygments_lexer": "ipython3",
   "version": "3.8.5"
  }
 },
 "nbformat": 4,
 "nbformat_minor": 5
}
